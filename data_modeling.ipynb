{
 "cells": [
  {
   "cell_type": "code",
   "execution_count": 1,
   "metadata": {},
   "outputs": [],
   "source": [
    "# import statements\n",
    "import pandas as pd\n",
    "import numpy as np\n",
    "import seaborn as sns\n",
    "import matplotlib.pyplot as plt\n",
    "%matplotlib inline"
   ]
  },
  {
   "cell_type": "markdown",
   "metadata": {},
   "source": [
    "# Starbucks Capstone Challenge\n",
    "\n",
    "## Project Overview\n",
    "\n",
    "This data set contains simulated data that mimics customer behavior on the Starbucks rewards mobile app. Once every few days, Starbucks sends out an offer to users of the mobile app. An offer can be merely an advertisement for a drink or an actual offer such as a discount or BOGO (buy one get one free). Some users might not receive any offer during certain weeks. \n",
    "\n",
    "Data was properly prepared in the `data_wrangling.ipynb` file, as long as descriptions for the columns involved.\n",
    "\n",
    "## Problem statement\n",
    "\n",
    "The goal for this project is to predict how likely will a customer respond to an offer, based on demographics and behavioural data. \n",
    "\n",
    "The model uses...\n",
    "\n",
    "## Packages used\n",
    "\n",
    "The following packages are used:\n",
    "<ol>\n",
    "    <li> <strong>pandas</strong>: python package for data analysis\n",
    "    <li> <strong>numpy</strong>: \n",
    "    <li> <strong>matplotlib</strong>: \n",
    "    <li> <strong>seaborn</strong>: \n",
    "    <li> <strong>scitkit-learn</strong>: \n",
    "    <li> <strong>scipy.stats</strong>: \n",
    "    <li> <strong></strong>: \n",
    "</ol>\n",
    "\n",
    "## Metrics\n",
    "\n",
    "The following metrics are going to be used to measure the models performance:\n",
    "\n",
    "## Loading data\n",
    "\n",
    "Data was cleaned in `data_modeling.ipynb`."
   ]
  },
  {
   "cell_type": "code",
   "execution_count": 81,
   "metadata": {},
   "outputs": [],
   "source": [
    "events = pd.read_csv('data\\\\transcript_clean.csv')\n",
    "customers = pd.read_csv('data\\profile_clean.csv')\n",
    "portfolio = pd.read_csv('data\\portfolio_clean.csv')"
   ]
  },
  {
   "cell_type": "code",
   "execution_count": 82,
   "metadata": {},
   "outputs": [
    {
     "name": "stdout",
     "output_type": "stream",
     "text": [
      "<class 'pandas.core.frame.DataFrame'>\n",
      "RangeIndex: 306534 entries, 0 to 306533\n",
      "Data columns (total 9 columns):\n",
      " #   Column           Non-Null Count   Dtype  \n",
      "---  ------           --------------   -----  \n",
      " 0   customer_id      306534 non-null  object \n",
      " 1   time             306534 non-null  int64  \n",
      " 2   amount           138953 non-null  float64\n",
      " 3   offer_id         167581 non-null  object \n",
      " 4   reward           33579 non-null   float64\n",
      " 5   offer_completed  306534 non-null  int64  \n",
      " 6   offer_received   306534 non-null  int64  \n",
      " 7   offer_viewed     306534 non-null  int64  \n",
      " 8   transaction      306534 non-null  int64  \n",
      "dtypes: float64(2), int64(5), object(2)\n",
      "memory usage: 21.0+ MB\n"
     ]
    }
   ],
   "source": [
    "events.info()"
   ]
  },
  {
   "cell_type": "code",
   "execution_count": 83,
   "metadata": {},
   "outputs": [
    {
     "name": "stdout",
     "output_type": "stream",
     "text": [
      "<class 'pandas.core.frame.DataFrame'>\n",
      "RangeIndex: 14825 entries, 0 to 14824\n",
      "Data columns (total 17 columns):\n",
      " #   Column                   Non-Null Count  Dtype  \n",
      "---  ------                   --------------  -----  \n",
      " 0   customer_id              14825 non-null  object \n",
      " 1   became_member_on         14825 non-null  object \n",
      " 2   income                   14825 non-null  float64\n",
      " 3   gender_F                 14825 non-null  int64  \n",
      " 4   gender_M                 14825 non-null  int64  \n",
      " 5   gender_O                 14825 non-null  int64  \n",
      " 6   age_range_age_0_to_18    14825 non-null  int64  \n",
      " 7   age_range_age_18_to_25   14825 non-null  int64  \n",
      " 8   age_range_age_25_to_30   14825 non-null  int64  \n",
      " 9   age_range_age_30_to_35   14825 non-null  int64  \n",
      " 10  age_range_age_35_to_40   14825 non-null  int64  \n",
      " 11  age_range_age_40_to_45   14825 non-null  int64  \n",
      " 12  age_range_age_45_to_50   14825 non-null  int64  \n",
      " 13  age_range_age_50_to_55   14825 non-null  int64  \n",
      " 14  age_range_age_55_to_60   14825 non-null  int64  \n",
      " 15  age_range_age_60_to_65   14825 non-null  int64  \n",
      " 16  age_range_age_65_to_101  14825 non-null  int64  \n",
      "dtypes: float64(1), int64(14), object(2)\n",
      "memory usage: 1.9+ MB\n"
     ]
    }
   ],
   "source": [
    "customers.info()"
   ]
  },
  {
   "cell_type": "code",
   "execution_count": 84,
   "metadata": {},
   "outputs": [
    {
     "name": "stdout",
     "output_type": "stream",
     "text": [
      "<class 'pandas.core.frame.DataFrame'>\n",
      "RangeIndex: 10 entries, 0 to 9\n",
      "Data columns (total 14 columns):\n",
      " #   Column                    Non-Null Count  Dtype \n",
      "---  ------                    --------------  ----- \n",
      " 0   reward                    10 non-null     int64 \n",
      " 1   difficulty                10 non-null     int64 \n",
      " 2   duration                  10 non-null     int64 \n",
      " 3   offer_id                  10 non-null     object\n",
      " 4   channel_0_email           10 non-null     int64 \n",
      " 5   channel_0_web             10 non-null     int64 \n",
      " 6   channel_1_email           10 non-null     int64 \n",
      " 7   channel_1_mobile          10 non-null     int64 \n",
      " 8   channel_2_mobile          10 non-null     int64 \n",
      " 9   channel_2_social          10 non-null     int64 \n",
      " 10  channel_3_social          10 non-null     int64 \n",
      " 11  offer_type_bogo           10 non-null     int64 \n",
      " 12  offer_type_discount       10 non-null     int64 \n",
      " 13  offer_type_informational  10 non-null     int64 \n",
      "dtypes: int64(13), object(1)\n",
      "memory usage: 1.2+ KB\n"
     ]
    }
   ],
   "source": [
    "portfolio.info()"
   ]
  },
  {
   "cell_type": "code",
   "execution_count": 85,
   "metadata": {},
   "outputs": [
    {
     "data": {
      "text/html": [
       "<div>\n",
       "<style scoped>\n",
       "    .dataframe tbody tr th:only-of-type {\n",
       "        vertical-align: middle;\n",
       "    }\n",
       "\n",
       "    .dataframe tbody tr th {\n",
       "        vertical-align: top;\n",
       "    }\n",
       "\n",
       "    .dataframe thead th {\n",
       "        text-align: right;\n",
       "    }\n",
       "</style>\n",
       "<table border=\"1\" class=\"dataframe\">\n",
       "  <thead>\n",
       "    <tr style=\"text-align: right;\">\n",
       "      <th></th>\n",
       "      <th>customer_id</th>\n",
       "      <th>became_member_on</th>\n",
       "      <th>income</th>\n",
       "      <th>gender_F</th>\n",
       "      <th>gender_M</th>\n",
       "      <th>gender_O</th>\n",
       "      <th>age_range_age_0_to_18</th>\n",
       "      <th>age_range_age_18_to_25</th>\n",
       "      <th>age_range_age_25_to_30</th>\n",
       "      <th>age_range_age_30_to_35</th>\n",
       "      <th>...</th>\n",
       "      <th>age_range_age_60_to_65</th>\n",
       "      <th>age_range_age_65_to_101</th>\n",
       "      <th>time</th>\n",
       "      <th>amount</th>\n",
       "      <th>offer_id</th>\n",
       "      <th>reward</th>\n",
       "      <th>offer_completed</th>\n",
       "      <th>offer_received</th>\n",
       "      <th>offer_viewed</th>\n",
       "      <th>transaction</th>\n",
       "    </tr>\n",
       "  </thead>\n",
       "  <tbody>\n",
       "    <tr>\n",
       "      <th>0</th>\n",
       "      <td>0610b486422d4921ae7d2bf64640c50b</td>\n",
       "      <td>2017-07-15</td>\n",
       "      <td>112000.0</td>\n",
       "      <td>1.0</td>\n",
       "      <td>0.0</td>\n",
       "      <td>0.0</td>\n",
       "      <td>0.0</td>\n",
       "      <td>0.0</td>\n",
       "      <td>0.0</td>\n",
       "      <td>0.0</td>\n",
       "      <td>...</td>\n",
       "      <td>0.0</td>\n",
       "      <td>0.0</td>\n",
       "      <td>18</td>\n",
       "      <td>21.51</td>\n",
       "      <td>NaN</td>\n",
       "      <td>NaN</td>\n",
       "      <td>0</td>\n",
       "      <td>0</td>\n",
       "      <td>0</td>\n",
       "      <td>1</td>\n",
       "    </tr>\n",
       "    <tr>\n",
       "      <th>1</th>\n",
       "      <td>0610b486422d4921ae7d2bf64640c50b</td>\n",
       "      <td>2017-07-15</td>\n",
       "      <td>112000.0</td>\n",
       "      <td>1.0</td>\n",
       "      <td>0.0</td>\n",
       "      <td>0.0</td>\n",
       "      <td>0.0</td>\n",
       "      <td>0.0</td>\n",
       "      <td>0.0</td>\n",
       "      <td>0.0</td>\n",
       "      <td>...</td>\n",
       "      <td>0.0</td>\n",
       "      <td>0.0</td>\n",
       "      <td>144</td>\n",
       "      <td>32.28</td>\n",
       "      <td>NaN</td>\n",
       "      <td>NaN</td>\n",
       "      <td>0</td>\n",
       "      <td>0</td>\n",
       "      <td>0</td>\n",
       "      <td>1</td>\n",
       "    </tr>\n",
       "    <tr>\n",
       "      <th>2</th>\n",
       "      <td>0610b486422d4921ae7d2bf64640c50b</td>\n",
       "      <td>2017-07-15</td>\n",
       "      <td>112000.0</td>\n",
       "      <td>1.0</td>\n",
       "      <td>0.0</td>\n",
       "      <td>0.0</td>\n",
       "      <td>0.0</td>\n",
       "      <td>0.0</td>\n",
       "      <td>0.0</td>\n",
       "      <td>0.0</td>\n",
       "      <td>...</td>\n",
       "      <td>0.0</td>\n",
       "      <td>0.0</td>\n",
       "      <td>408</td>\n",
       "      <td>NaN</td>\n",
       "      <td>9b98b8c7a33c4b65b9aebfe6a799e6d9</td>\n",
       "      <td>NaN</td>\n",
       "      <td>0</td>\n",
       "      <td>1</td>\n",
       "      <td>0</td>\n",
       "      <td>0</td>\n",
       "    </tr>\n",
       "    <tr>\n",
       "      <th>3</th>\n",
       "      <td>0610b486422d4921ae7d2bf64640c50b</td>\n",
       "      <td>2017-07-15</td>\n",
       "      <td>112000.0</td>\n",
       "      <td>1.0</td>\n",
       "      <td>0.0</td>\n",
       "      <td>0.0</td>\n",
       "      <td>0.0</td>\n",
       "      <td>0.0</td>\n",
       "      <td>0.0</td>\n",
       "      <td>0.0</td>\n",
       "      <td>...</td>\n",
       "      <td>0.0</td>\n",
       "      <td>0.0</td>\n",
       "      <td>504</td>\n",
       "      <td>NaN</td>\n",
       "      <td>3f207df678b143eea3cee63160fa8bed</td>\n",
       "      <td>NaN</td>\n",
       "      <td>0</td>\n",
       "      <td>1</td>\n",
       "      <td>0</td>\n",
       "      <td>0</td>\n",
       "    </tr>\n",
       "    <tr>\n",
       "      <th>4</th>\n",
       "      <td>0610b486422d4921ae7d2bf64640c50b</td>\n",
       "      <td>2017-07-15</td>\n",
       "      <td>112000.0</td>\n",
       "      <td>1.0</td>\n",
       "      <td>0.0</td>\n",
       "      <td>0.0</td>\n",
       "      <td>0.0</td>\n",
       "      <td>0.0</td>\n",
       "      <td>0.0</td>\n",
       "      <td>0.0</td>\n",
       "      <td>...</td>\n",
       "      <td>0.0</td>\n",
       "      <td>0.0</td>\n",
       "      <td>528</td>\n",
       "      <td>23.22</td>\n",
       "      <td>NaN</td>\n",
       "      <td>NaN</td>\n",
       "      <td>0</td>\n",
       "      <td>0</td>\n",
       "      <td>0</td>\n",
       "      <td>1</td>\n",
       "    </tr>\n",
       "  </tbody>\n",
       "</table>\n",
       "<p>5 rows × 25 columns</p>\n",
       "</div>"
      ],
      "text/plain": [
       "                        customer_id became_member_on    income  gender_F  \\\n",
       "0  0610b486422d4921ae7d2bf64640c50b       2017-07-15  112000.0       1.0   \n",
       "1  0610b486422d4921ae7d2bf64640c50b       2017-07-15  112000.0       1.0   \n",
       "2  0610b486422d4921ae7d2bf64640c50b       2017-07-15  112000.0       1.0   \n",
       "3  0610b486422d4921ae7d2bf64640c50b       2017-07-15  112000.0       1.0   \n",
       "4  0610b486422d4921ae7d2bf64640c50b       2017-07-15  112000.0       1.0   \n",
       "\n",
       "   gender_M  gender_O  age_range_age_0_to_18  age_range_age_18_to_25  \\\n",
       "0       0.0       0.0                    0.0                     0.0   \n",
       "1       0.0       0.0                    0.0                     0.0   \n",
       "2       0.0       0.0                    0.0                     0.0   \n",
       "3       0.0       0.0                    0.0                     0.0   \n",
       "4       0.0       0.0                    0.0                     0.0   \n",
       "\n",
       "   age_range_age_25_to_30  age_range_age_30_to_35  ...  \\\n",
       "0                     0.0                     0.0  ...   \n",
       "1                     0.0                     0.0  ...   \n",
       "2                     0.0                     0.0  ...   \n",
       "3                     0.0                     0.0  ...   \n",
       "4                     0.0                     0.0  ...   \n",
       "\n",
       "   age_range_age_60_to_65  age_range_age_65_to_101  time  amount  \\\n",
       "0                     0.0                      0.0    18   21.51   \n",
       "1                     0.0                      0.0   144   32.28   \n",
       "2                     0.0                      0.0   408     NaN   \n",
       "3                     0.0                      0.0   504     NaN   \n",
       "4                     0.0                      0.0   528   23.22   \n",
       "\n",
       "                           offer_id  reward  offer_completed  offer_received  \\\n",
       "0                               NaN     NaN                0               0   \n",
       "1                               NaN     NaN                0               0   \n",
       "2  9b98b8c7a33c4b65b9aebfe6a799e6d9     NaN                0               1   \n",
       "3  3f207df678b143eea3cee63160fa8bed     NaN                0               1   \n",
       "4                               NaN     NaN                0               0   \n",
       "\n",
       "   offer_viewed transaction  \n",
       "0             0           1  \n",
       "1             0           1  \n",
       "2             0           0  \n",
       "3             0           0  \n",
       "4             0           1  \n",
       "\n",
       "[5 rows x 25 columns]"
      ]
     },
     "execution_count": 85,
     "metadata": {},
     "output_type": "execute_result"
    }
   ],
   "source": [
    "df_merge = pd.merge(customers, \n",
    "                    events,\n",
    "                    how='outer',\n",
    "                    on='customer_id')\n",
    "df_merge.head()"
   ]
  },
  {
   "cell_type": "code",
   "execution_count": 86,
   "metadata": {},
   "outputs": [
    {
     "data": {
      "text/plain": [
       "(11,)"
      ]
     },
     "execution_count": 86,
     "metadata": {},
     "output_type": "execute_result"
    }
   ],
   "source": [
    "df = pd.merge(df_merge,\n",
    "            portfolio,\n",
    "            how='outer',\n",
    "            on='offer_id')\n",
    "df['offer_id'].unique().shape"
   ]
  },
  {
   "cell_type": "markdown",
   "metadata": {},
   "source": [
    "That means 10 types of offer plus the portfolio."
   ]
  },
  {
   "cell_type": "code",
   "execution_count": 87,
   "metadata": {},
   "outputs": [
    {
     "name": "stdout",
     "output_type": "stream",
     "text": [
      "<class 'pandas.core.frame.DataFrame'>\n",
      "Int64Index: 306534 entries, 0 to 306533\n",
      "Data columns (total 38 columns):\n",
      " #   Column                    Non-Null Count   Dtype  \n",
      "---  ------                    --------------   -----  \n",
      " 0   customer_id               306534 non-null  object \n",
      " 1   became_member_on          272762 non-null  object \n",
      " 2   income                    272762 non-null  float64\n",
      " 3   gender_F                  272762 non-null  float64\n",
      " 4   gender_M                  272762 non-null  float64\n",
      " 5   gender_O                  272762 non-null  float64\n",
      " 6   age_range_age_0_to_18     272762 non-null  float64\n",
      " 7   age_range_age_18_to_25    272762 non-null  float64\n",
      " 8   age_range_age_25_to_30    272762 non-null  float64\n",
      " 9   age_range_age_30_to_35    272762 non-null  float64\n",
      " 10  age_range_age_35_to_40    272762 non-null  float64\n",
      " 11  age_range_age_40_to_45    272762 non-null  float64\n",
      " 12  age_range_age_45_to_50    272762 non-null  float64\n",
      " 13  age_range_age_50_to_55    272762 non-null  float64\n",
      " 14  age_range_age_55_to_60    272762 non-null  float64\n",
      " 15  age_range_age_60_to_65    272762 non-null  float64\n",
      " 16  age_range_age_65_to_101   272762 non-null  float64\n",
      " 17  time                      306534 non-null  int64  \n",
      " 18  amount                    138953 non-null  float64\n",
      " 19  offer_id                  167581 non-null  object \n",
      " 20  reward_x                  33579 non-null   float64\n",
      " 21  offer_completed           306534 non-null  int64  \n",
      " 22  offer_received            306534 non-null  int64  \n",
      " 23  offer_viewed              306534 non-null  int64  \n",
      " 24  transaction               306534 non-null  int64  \n",
      " 25  reward_y                  167581 non-null  float64\n",
      " 26  difficulty                167581 non-null  float64\n",
      " 27  duration                  167581 non-null  float64\n",
      " 28  channel_0_email           167581 non-null  float64\n",
      " 29  channel_0_web             167581 non-null  float64\n",
      " 30  channel_1_email           167581 non-null  float64\n",
      " 31  channel_1_mobile          167581 non-null  float64\n",
      " 32  channel_2_mobile          167581 non-null  float64\n",
      " 33  channel_2_social          167581 non-null  float64\n",
      " 34  channel_3_social          167581 non-null  float64\n",
      " 35  offer_type_bogo           167581 non-null  float64\n",
      " 36  offer_type_discount       167581 non-null  float64\n",
      " 37  offer_type_informational  167581 non-null  float64\n",
      "dtypes: float64(30), int64(5), object(3)\n",
      "memory usage: 91.2+ MB\n"
     ]
    }
   ],
   "source": [
    "df.info()"
   ]
  },
  {
   "cell_type": "markdown",
   "metadata": {},
   "source": [
    "## Who are the buying customers?\n",
    "At this section, I'm going to analyse the data to better understand customers who buy stuff behavior and demographics."
   ]
  },
  {
   "cell_type": "code",
   "execution_count": 103,
   "metadata": {},
   "outputs": [
    {
     "name": "stdout",
     "output_type": "stream",
     "text": [
      "[41.342327150084316, 57.227655986509276, 1.430016863406408]\n",
      "[36.36424957841484, 43.27824620573356, 1.2074198988195615]\n"
     ]
    },
    {
     "data": {
      "image/png": "[encoded data removed]",
      "text/plain": [
       "<Figure size 1080x360 with 1 Axes>"
      ]
     },
     "metadata": {
      "needs_background": "light"
     },
     "output_type": "display_data"
    }
   ],
   "source": [
    "unique_customs = df.groupby('customer_id').first()\n",
    "unique_buying_customs = df[df['offer_completed']>0].groupby('customer_id').first()\n",
    "unique_customs_f = unique_customs.gender_F.dropna()\n",
    "unique_customs_m = unique_customs.gender_M.dropna()\n",
    "unique_customs_o = unique_customs.gender_O.dropna()\n",
    "buying_customs_f = unique_buying_customs.gender_F.dropna()\n",
    "buying_customs_m = unique_buying_customs.gender_M.dropna()\n",
    "buying_customs_o = unique_buying_customs.gender_O.dropna()\n",
    "total = unique_customs_f.shape[0]\n",
    "\n",
    "gender_proportions = [unique_customs_f.sum()/total*100,\n",
    "                      unique_customs_m.sum()/total*100,\n",
    "                      unique_customs_o.sum()/total*100]\n",
    "gender_proportions_buying = [buying_customs_f.sum()/total*100,\n",
    "                            buying_customs_m.sum()/total*100,\n",
    "                            buying_customs_o.sum()/total*100]                     \n",
    "\n",
    "column_names = ['Female', 'Male', 'Others']\n",
    "a_hundred = [100, 100, 100] #to plot the background\n",
    "\n",
    "\n",
    "fig, ax = plt.subplots(figsize=(15,5))\n",
    "ax.barh(column_names, a_hundred, color = '#B0B0B0')\n",
    "ax.barh(column_names, gender_proportions, color = 'slategrey')\n",
    "ax.barh(column_names, gender_proportions_buying, color = 'steelblue')\n",
    "ax.invert_yaxis()\n",
    "ax.set_xticks(range(0,101,5))\n",
    "ax.grid()\n",
    "ax.legend(['Total','General public', 'Buying customers'])\n",
    "ax.set_title('Gender Proportions in the data (%)')\n",
    "print(gender_proportions)\n",
    "print(gender_proportions_buying)"
   ]
  },
  {
   "cell_type": "markdown",
   "metadata": {},
   "source": [
    "Even the male customers being the most present in the dataset, we can clearly see that women are more likely to be the ones buying. "
   ]
  },
  {
   "cell_type": "code",
   "execution_count": null,
   "metadata": {},
   "outputs": [],
   "source": []
  },
  {
   "cell_type": "markdown",
   "metadata": {},
   "source": [
    "# erase later\n",
    "Your task is to combine transaction, demographic and offer data to determine which demographic groups respond best to which offer type. This data set is a simplified version of the real Starbucks app because the underlying simulator only has one product whereas Starbucks actually sells dozens of products.\n",
    "\n",
    "Every offer has a validity period before the offer expires. As an example, a BOGO offer might be valid for only 5 days. You'll see in the data set that informational offers have a validity period even though these ads are merely providing information about a product; for example, if an informational offer has 7 days of validity, you can assume the customer is feeling the influence of the offer for 7 days after receiving the advertisement.\n",
    "\n",
    "You'll be given transactional data showing user purchases made on the app including the timestamp of purchase and the amount of money spent on a purchase. This transactional data also has a record for each offer that a user receives as well as a record for when a user actually views the offer. There are also records for when a user completes an offer. \n",
    "\n",
    "Keep in mind as well that someone using the app might make a purchase through the app without having received an offer or seen an offer.\n",
    "\n",
    "### Example\n",
    "\n",
    "To give an example, a user could receive a discount offer buy 10 dollars get 2 off on Monday. The offer is valid for 10 days from receipt. If the customer accumulates at least 10 dollars in purchases during the validity period, the customer completes the offer.\n",
    "\n",
    "However, there are a few things to watch out for in this data set. Customers do not opt into the offers that they receive; in other words, a user can receive an offer, never actually view the offer, and still complete the offer. For example, a user might receive the \"buy 10 dollars get 2 dollars off offer\", but the user never opens the offer during the 10 day validity period. The customer spends 15 dollars during those ten days. There will be an offer completion record in the data set; however, the customer was not influenced by the offer because the customer never viewed the offer.\n",
    "\n",
    "### Cleaning\n",
    "\n",
    "This makes data cleaning especially important and tricky.\n",
    "\n",
    "You'll also want to take into account that some demographic groups will make purchases even if they don't receive an offer. From a business perspective, if a customer is going to make a 10 dollar purchase without an offer anyway, you wouldn't want to send a buy 10 dollars get 2 dollars off offer. You'll want to try to assess what a certain demographic group will buy when not receiving any offers.\n",
    "\n",
    "### Final Advice\n",
    "\n",
    "Because this is a capstone project, you are free to analyze the data any way you see fit. For example, you could build a machine learning model that predicts how much someone will spend based on demographics and offer type. Or you could build a model that predicts whether or not someone will respond to an offer. Or, you don't need to build a machine learning model at all. You could develop a set of heuristics that determine what offer you should send to each customer (i.e., 75 percent of women customers who were 35 years old responded to offer A vs 40 percent from the same demographic to offer B, so send offer A)."
   ]
  }
 ],
 "metadata": {
  "interpreter": {
   "hash": "b3ba2566441a7c06988d0923437866b63cedc61552a5af99d1f4fb67d367b25f"
  },
  "kernelspec": {
   "display_name": "Python 3.9.7 64-bit ('base': conda)",
   "language": "python",
   "name": "python3"
  },
  "language_info": {
   "codemirror_mode": {
    "name": "ipython",
    "version": 3
   },
   "file_extension": ".py",
   "mimetype": "text/x-python",
   "name": "python",
   "nbconvert_exporter": "python",
   "pygments_lexer": "ipython3",
   "version": "3.9.7"
  },
  "orig_nbformat": 4
 },
 "nbformat": 4,
 "nbformat_minor": 2
}
